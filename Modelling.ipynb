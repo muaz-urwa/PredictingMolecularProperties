{
 "cells": [
  {
   "cell_type": "code",
   "execution_count": 13,
   "metadata": {
    "collapsed": false,
    "deletable": true,
    "editable": true
   },
   "outputs": [],
   "source": [
    "# imports \n",
    "import os\n",
    "import time\n",
    "import datetime\n",
    "import json\n",
    "import gc\n",
    "\n",
    "import numpy as np\n",
    "import pandas as pd\n",
    "\n",
    "import matplotlib.pyplot as plt\n",
    "#import seaborn as sns\n",
    "\n",
    "from sklearn import metrics\n",
    "\n",
    "from itertools import product\n",
    "\n",
    "from sklearn.ensemble import RandomForestRegressor\n",
    "from sklearn.model_selection import train_test_split\n",
    "from sklearn.metrics import r2_score\n",
    "from sklearn.metrics import mean_absolute_error\n",
    "from sklearn.preprocessing import LabelEncoder"
   ]
  },
  {
   "cell_type": "code",
   "execution_count": 14,
   "metadata": {
    "collapsed": true,
    "deletable": true,
    "editable": true
   },
   "outputs": [],
   "source": [
    "dataDirectory = 'data'"
   ]
  },
  {
   "cell_type": "code",
   "execution_count": 19,
   "metadata": {
    "collapsed": false,
    "deletable": true,
    "editable": true
   },
   "outputs": [
    {
     "data": {
      "text/plain": [
       "(4658147, 6)"
      ]
     },
     "execution_count": 19,
     "metadata": {},
     "output_type": "execute_result"
    }
   ],
   "source": [
    "train = pd.read_csv(dataDirectory+'/train.csv')\n",
    "structures = pd.read_csv(dataDirectory+'/structures.csv')\n",
    "train.shape"
   ]
  },
  {
   "cell_type": "code",
   "execution_count": 20,
   "metadata": {
    "collapsed": false,
    "deletable": true,
    "editable": true
   },
   "outputs": [
    {
     "data": {
      "text/plain": [
       "(465815, 6)"
      ]
     },
     "execution_count": 20,
     "metadata": {},
     "output_type": "execute_result"
    }
   ],
   "source": [
    "# Sampling the 10% dataframe for quick experiments. This is compromise accuracy !\n",
    "train = train.sample(frac=0.1, replace=False, random_state=2019)\n",
    "train.shape"
   ]
  },
  {
   "cell_type": "code",
   "execution_count": 21,
   "metadata": {
    "collapsed": false,
    "deletable": true,
    "editable": true
   },
   "outputs": [
    {
     "data": {
      "text/html": [
       "<div>\n",
       "<table border=\"1\" class=\"dataframe\">\n",
       "  <thead>\n",
       "    <tr style=\"text-align: right;\">\n",
       "      <th></th>\n",
       "      <th>id</th>\n",
       "      <th>molecule_name</th>\n",
       "      <th>atom_index_0</th>\n",
       "      <th>atom_index_1</th>\n",
       "      <th>type</th>\n",
       "      <th>scalar_coupling_constant</th>\n",
       "      <th>atom_0</th>\n",
       "      <th>x_0</th>\n",
       "      <th>y_0</th>\n",
       "      <th>z_0</th>\n",
       "      <th>atom_1</th>\n",
       "      <th>x_1</th>\n",
       "      <th>y_1</th>\n",
       "      <th>z_1</th>\n",
       "    </tr>\n",
       "  </thead>\n",
       "  <tbody>\n",
       "    <tr>\n",
       "      <th>0</th>\n",
       "      <td>1164923</td>\n",
       "      <td>dsgdb9nsd_039011</td>\n",
       "      <td>9</td>\n",
       "      <td>8</td>\n",
       "      <td>2JHC</td>\n",
       "      <td>1.27218</td>\n",
       "      <td>H</td>\n",
       "      <td>-0.583182</td>\n",
       "      <td>1.971750</td>\n",
       "      <td>0.803563</td>\n",
       "      <td>C</td>\n",
       "      <td>-0.017013</td>\n",
       "      <td>0.014571</td>\n",
       "      <td>0.025109</td>\n",
       "    </tr>\n",
       "    <tr>\n",
       "      <th>1</th>\n",
       "      <td>4441950</td>\n",
       "      <td>dsgdb9nsd_122989</td>\n",
       "      <td>15</td>\n",
       "      <td>16</td>\n",
       "      <td>3JHH</td>\n",
       "      <td>3.53842</td>\n",
       "      <td>H</td>\n",
       "      <td>-1.706262</td>\n",
       "      <td>-0.254513</td>\n",
       "      <td>-1.102151</td>\n",
       "      <td>H</td>\n",
       "      <td>-0.636574</td>\n",
       "      <td>-2.476063</td>\n",
       "      <td>-0.612832</td>\n",
       "    </tr>\n",
       "    <tr>\n",
       "      <th>2</th>\n",
       "      <td>4566146</td>\n",
       "      <td>dsgdb9nsd_127768</td>\n",
       "      <td>13</td>\n",
       "      <td>4</td>\n",
       "      <td>3JHC</td>\n",
       "      <td>7.92151</td>\n",
       "      <td>H</td>\n",
       "      <td>0.120346</td>\n",
       "      <td>-2.510468</td>\n",
       "      <td>3.880919</td>\n",
       "      <td>C</td>\n",
       "      <td>0.017184</td>\n",
       "      <td>-2.120399</td>\n",
       "      <td>0.606965</td>\n",
       "    </tr>\n",
       "  </tbody>\n",
       "</table>\n",
       "</div>"
      ],
      "text/plain": [
       "        id     molecule_name  atom_index_0  atom_index_1  type  \\\n",
       "0  1164923  dsgdb9nsd_039011             9             8  2JHC   \n",
       "1  4441950  dsgdb9nsd_122989            15            16  3JHH   \n",
       "2  4566146  dsgdb9nsd_127768            13             4  3JHC   \n",
       "\n",
       "   scalar_coupling_constant atom_0       x_0       y_0       z_0 atom_1  \\\n",
       "0                   1.27218      H -0.583182  1.971750  0.803563      C   \n",
       "1                   3.53842      H -1.706262 -0.254513 -1.102151      H   \n",
       "2                   7.92151      H  0.120346 -2.510468  3.880919      C   \n",
       "\n",
       "        x_1       y_1       z_1  \n",
       "0 -0.017013  0.014571  0.025109  \n",
       "1 -0.636574 -2.476063 -0.612832  \n",
       "2  0.017184 -2.120399  0.606965  "
      ]
     },
     "execution_count": 21,
     "metadata": {},
     "output_type": "execute_result"
    }
   ],
   "source": [
    "## Merge with structural features of atoms\n",
    "trainMerged = pd.merge(train, structures, how = 'left',left_on  = ['molecule_name', 'atom_index_0'],\n",
    "                  right_on = ['molecule_name',  'atom_index'])\n",
    "trainMerged.rename(columns={'atom': 'atom_0','x': 'x_0','y': 'y_0','z': 'z_0'}, inplace=True)\n",
    "\n",
    "\n",
    "trainMerged = pd.merge(trainMerged, structures, how = 'left',\n",
    "                  left_on  = ['molecule_name', 'atom_index_1'],\n",
    "                  right_on = ['molecule_name',  'atom_index'])\n",
    "trainMerged.rename(columns={'atom': 'atom_1','x': 'x_1','y': 'y_1','z': 'z_1'}, inplace=True)\n",
    "\n",
    "trainMerged.drop(['atom_index_x','atom_index_y'], axis=1, inplace=True)\n",
    "\n",
    "trainMerged.head(3)"
   ]
  },
  {
   "cell_type": "code",
   "execution_count": 22,
   "metadata": {
    "collapsed": true,
    "deletable": true,
    "editable": true
   },
   "outputs": [],
   "source": [
    "def EuclideanDistance(x,y,z):\n",
    "    \"\"\"calculates euclidean distance given abs relative position\"\"\"\n",
    "    return np.power(x**2 + y**2 + z**2,0.5)\n",
    "    \n",
    "vecDist = np.vectorize(EuclideanDistance)"
   ]
  },
  {
   "cell_type": "code",
   "execution_count": 25,
   "metadata": {
    "collapsed": true,
    "deletable": true,
    "editable": true
   },
   "outputs": [],
   "source": [
    "## relative postion and euclidean distance features\n",
    "trainMerged['RelPos_x'] = np.abs(trainMerged['x_0'] - trainMerged['x_1'])\n",
    "trainMerged['RelPos_y'] = np.abs(trainMerged['y_0'] - trainMerged['y_1'])\n",
    "trainMerged['RelPos_z'] = np.abs(trainMerged['z_0'] - trainMerged['z_1'])\n",
    "trainMerged['Euc_Dist'] = vecDist(trainMerged.RelPos_x, trainMerged.RelPos_y ,trainMerged.RelPos_z)"
   ]
  },
  {
   "cell_type": "code",
   "execution_count": 26,
   "metadata": {
    "collapsed": false,
    "deletable": true,
    "editable": true
   },
   "outputs": [
    {
     "data": {
      "text/html": [
       "<div>\n",
       "<table border=\"1\" class=\"dataframe\">\n",
       "  <thead>\n",
       "    <tr style=\"text-align: right;\">\n",
       "      <th></th>\n",
       "      <th>id</th>\n",
       "      <th>molecule_name</th>\n",
       "      <th>atom_index_0</th>\n",
       "      <th>atom_index_1</th>\n",
       "      <th>type</th>\n",
       "      <th>scalar_coupling_constant</th>\n",
       "      <th>atom_0</th>\n",
       "      <th>x_0</th>\n",
       "      <th>y_0</th>\n",
       "      <th>z_0</th>\n",
       "      <th>atom_1</th>\n",
       "      <th>x_1</th>\n",
       "      <th>y_1</th>\n",
       "      <th>z_1</th>\n",
       "      <th>RelPos_x</th>\n",
       "      <th>RelPos_y</th>\n",
       "      <th>RelPos_z</th>\n",
       "      <th>Euc_Dist</th>\n",
       "    </tr>\n",
       "  </thead>\n",
       "  <tbody>\n",
       "    <tr>\n",
       "      <th>0</th>\n",
       "      <td>1164923</td>\n",
       "      <td>dsgdb9nsd_039011</td>\n",
       "      <td>9</td>\n",
       "      <td>8</td>\n",
       "      <td>2JHC</td>\n",
       "      <td>1.27218</td>\n",
       "      <td>H</td>\n",
       "      <td>-0.583182</td>\n",
       "      <td>1.971750</td>\n",
       "      <td>0.803563</td>\n",
       "      <td>C</td>\n",
       "      <td>-0.017013</td>\n",
       "      <td>0.014571</td>\n",
       "      <td>0.025109</td>\n",
       "      <td>0.566169</td>\n",
       "      <td>1.957179</td>\n",
       "      <td>0.778454</td>\n",
       "      <td>2.181075</td>\n",
       "    </tr>\n",
       "    <tr>\n",
       "      <th>1</th>\n",
       "      <td>4441950</td>\n",
       "      <td>dsgdb9nsd_122989</td>\n",
       "      <td>15</td>\n",
       "      <td>16</td>\n",
       "      <td>3JHH</td>\n",
       "      <td>3.53842</td>\n",
       "      <td>H</td>\n",
       "      <td>-1.706262</td>\n",
       "      <td>-0.254513</td>\n",
       "      <td>-1.102151</td>\n",
       "      <td>H</td>\n",
       "      <td>-0.636574</td>\n",
       "      <td>-2.476063</td>\n",
       "      <td>-0.612832</td>\n",
       "      <td>1.069689</td>\n",
       "      <td>2.221549</td>\n",
       "      <td>0.489319</td>\n",
       "      <td>2.513752</td>\n",
       "    </tr>\n",
       "    <tr>\n",
       "      <th>2</th>\n",
       "      <td>4566146</td>\n",
       "      <td>dsgdb9nsd_127768</td>\n",
       "      <td>13</td>\n",
       "      <td>4</td>\n",
       "      <td>3JHC</td>\n",
       "      <td>7.92151</td>\n",
       "      <td>H</td>\n",
       "      <td>0.120346</td>\n",
       "      <td>-2.510468</td>\n",
       "      <td>3.880919</td>\n",
       "      <td>C</td>\n",
       "      <td>0.017184</td>\n",
       "      <td>-2.120399</td>\n",
       "      <td>0.606965</td>\n",
       "      <td>0.103162</td>\n",
       "      <td>0.390069</td>\n",
       "      <td>3.273954</td>\n",
       "      <td>3.298722</td>\n",
       "    </tr>\n",
       "  </tbody>\n",
       "</table>\n",
       "</div>"
      ],
      "text/plain": [
       "        id     molecule_name  atom_index_0  atom_index_1  type  \\\n",
       "0  1164923  dsgdb9nsd_039011             9             8  2JHC   \n",
       "1  4441950  dsgdb9nsd_122989            15            16  3JHH   \n",
       "2  4566146  dsgdb9nsd_127768            13             4  3JHC   \n",
       "\n",
       "   scalar_coupling_constant atom_0       x_0       y_0       z_0 atom_1  \\\n",
       "0                   1.27218      H -0.583182  1.971750  0.803563      C   \n",
       "1                   3.53842      H -1.706262 -0.254513 -1.102151      H   \n",
       "2                   7.92151      H  0.120346 -2.510468  3.880919      C   \n",
       "\n",
       "        x_1       y_1       z_1  RelPos_x  RelPos_y  RelPos_z  Euc_Dist  \n",
       "0 -0.017013  0.014571  0.025109  0.566169  1.957179  0.778454  2.181075  \n",
       "1 -0.636574 -2.476063 -0.612832  1.069689  2.221549  0.489319  2.513752  \n",
       "2  0.017184 -2.120399  0.606965  0.103162  0.390069  3.273954  3.298722  "
      ]
     },
     "execution_count": 26,
     "metadata": {},
     "output_type": "execute_result"
    }
   ],
   "source": [
    "trainMerged.head(3)"
   ]
  },
  {
   "cell_type": "code",
   "execution_count": 27,
   "metadata": {
    "collapsed": true,
    "deletable": true,
    "editable": true
   },
   "outputs": [],
   "source": [
    "labelencoder = LabelEncoder()\n",
    "def labelEncodeCategoricalFeatures(DF):\n",
    "    \"\"\"label encodes the categorical feautes in a given dataframe\"\"\"\n",
    "    df = DF.copy()\n",
    "    for c in df.columns:\n",
    "        if df[c].dtype.name == 'object':\n",
    "            df[c] = labelencoder.fit_transform(df[c])\n",
    "    return df"
   ]
  },
  {
   "cell_type": "code",
   "execution_count": 28,
   "metadata": {
    "collapsed": true,
    "deletable": true,
    "editable": true
   },
   "outputs": [],
   "source": [
    "X = trainMerged[['type','RelPos_x','RelPos_y','RelPos_z','Euc_Dist', 'atom_0','atom_1']]\n",
    "Y = trainMerged['scalar_coupling_constant']"
   ]
  },
  {
   "cell_type": "code",
   "execution_count": 29,
   "metadata": {
    "collapsed": true,
    "deletable": true,
    "editable": true
   },
   "outputs": [],
   "source": [
    "X = labelEncodeCategoricalFeatures(X).values"
   ]
  },
  {
   "cell_type": "code",
   "execution_count": 30,
   "metadata": {
    "collapsed": false,
    "deletable": true,
    "editable": true
   },
   "outputs": [
    {
     "name": "stdout",
     "output_type": "stream",
     "text": [
      "Train Test Split:\n",
      "(312096, 7) (153719, 7) (312096,) (153719,)\n"
     ]
    }
   ],
   "source": [
    "# train test split\n",
    "X_train, X_test, y_train, y_test = train_test_split(X, Y, test_size=0.33, random_state=2019)\n",
    "print(\"Train Test Split:\")\n",
    "print(np.array(X_train).shape, np.array(X_test).shape, np.array(y_train).shape, np.array(y_test).shape)"
   ]
  },
  {
   "cell_type": "code",
   "execution_count": 31,
   "metadata": {
    "collapsed": true,
    "deletable": true,
    "editable": true
   },
   "outputs": [],
   "source": [
    "def competetionMetric(types,y_test, yhat):\n",
    "    \"\"\"Metric given here: https://www.kaggle.com/c/champs-scalar-coupling/overview/evaluation\"\"\"\n",
    "    maeList = []\n",
    "    for t in set(types):\n",
    "        yt = y_test[types==t]\n",
    "        yh = yhat[types==t]\n",
    "        maeList.append(mean_absolute_error(yt, yh))\n",
    "    return np.mean(np.log(maeList))"
   ]
  },
  {
   "cell_type": "code",
   "execution_count": 32,
   "metadata": {
    "collapsed": true,
    "deletable": true,
    "editable": true
   },
   "outputs": [],
   "source": [
    "def evaluateModel(types,y_test, yhat):\n",
    "    \"\"\"Prints several regression evaluation metrics given ground truth and predictions\"\"\"\n",
    "    print('Coefficient of determination: ',r2_score(y_test, yhat))\n",
    "    print('MAE: ',mean_absolute_error(y_test, yhat))\n",
    "    print('Competition Metric: ',competetionMetric(types,y_test, yhat))"
   ]
  },
  {
   "cell_type": "code",
   "execution_count": 33,
   "metadata": {
    "collapsed": true,
    "deletable": true,
    "editable": true
   },
   "outputs": [],
   "source": [
    "def naiveBaseLine(X_train, X_test, y_train, y_test):\n",
    "    \"\"\"Uses mean of training data as prediction\"\"\"\n",
    "    yhat = np.ones(len(y_test)) * np.mean(y_train)\n",
    "    types = X_test[:,0]\n",
    "    evaluateModel(types, y_test, yhat)"
   ]
  },
  {
   "cell_type": "code",
   "execution_count": 34,
   "metadata": {
    "collapsed": true,
    "deletable": true,
    "editable": true
   },
   "outputs": [],
   "source": [
    "def typeAwareBaseLine(X_train, X_test, y_train, y_test):\n",
    "    \"\"\"Uses mean of corresponding type as pediction\"\"\"\n",
    "    yhat = np.zeros(len(y_test))\n",
    "    trainDf = pd.DataFrame({'type':X_train[:,0], 'y':y_train})\n",
    "    meansDf = trainDf.groupby('type').mean()\n",
    "    meanDict = dict(zip(meansDf.index,meansDf.y))\n",
    "    types = X_test[:,0]\n",
    "    yhat = np.array([meanDict[t] for t in types])\n",
    "    evaluateModel(types, y_test, yhat)"
   ]
  },
  {
   "cell_type": "code",
   "execution_count": 35,
   "metadata": {
    "collapsed": true,
    "deletable": true,
    "editable": true
   },
   "outputs": [],
   "source": [
    "def randomForestModel(X_train, X_test, y_train, y_test):\n",
    "    \"\"\"Trains and evaluates a random forrest regressor\"\"\"\n",
    "    regr = RandomForestRegressor(max_depth=10, random_state=2019,n_estimators=100)\n",
    "    regr.fit(X_train,y_train)\n",
    "    yhat = regr.predict(X_test)\n",
    "    types = X_test[:,0]\n",
    "    evaluateModel(types,y_test, yhat)"
   ]
  },
  {
   "cell_type": "code",
   "execution_count": 36,
   "metadata": {
    "collapsed": true,
    "deletable": true,
    "editable": true
   },
   "outputs": [],
   "source": [
    "def typeAwareRandomForestModel(X_train, X_test, y_train, y_test):\n",
    "    \"\"\"Trains a separate random forrest regressor for each class\"\"\"\n",
    "    models = {}\n",
    "    types = X_train[:,0]\n",
    "    for t in set(types):\n",
    "        yt = y_train[types==t]\n",
    "        xt = X_train[types==t]\n",
    "        regr = RandomForestRegressor(max_depth=10, random_state=2019,n_estimators=100)\n",
    "        regr.fit(xt,yt)\n",
    "        models[t] = regr\n",
    "    \n",
    "    types = X_test[:,0]\n",
    "    yhat = np.zeros(X_test.shape[0])\n",
    "    for t in set(types):\n",
    "        yhat[types==t] = models[t].predict(X_test[types==t])\n",
    "\n",
    "    evaluateModel(types,y_test, yhat)"
   ]
  },
  {
   "cell_type": "code",
   "execution_count": 37,
   "metadata": {
    "collapsed": false,
    "deletable": true,
    "editable": true
   },
   "outputs": [
    {
     "name": "stdout",
     "output_type": "stream",
     "text": [
      "Coefficient of determination:  -8.45019949569e-08\n",
      "MAE:  24.7044899378\n",
      "Competition Metric:  3.00509813563\n"
     ]
    }
   ],
   "source": [
    "naiveBaseLine(X_train, X_test, y_train, y_test)"
   ]
  },
  {
   "cell_type": "code",
   "execution_count": 38,
   "metadata": {
    "collapsed": false,
    "deletable": true,
    "editable": true
   },
   "outputs": [
    {
     "name": "stdout",
     "output_type": "stream",
     "text": [
      "Coefficient of determination:  0.949197128083\n",
      "MAE:  4.22328689846\n",
      "Competition Metric:  1.23701125805\n"
     ]
    }
   ],
   "source": [
    "typeAwareBaseLine(X_train, X_test, y_train, y_test)"
   ]
  },
  {
   "cell_type": "code",
   "execution_count": 39,
   "metadata": {
    "collapsed": false,
    "deletable": true,
    "editable": true
   },
   "outputs": [
    {
     "name": "stdout",
     "output_type": "stream",
     "text": [
      "Coefficient of determination:  0.986736212325\n",
      "MAE:  2.51034462219\n",
      "Competition Metric:  0.737599583038\n"
     ]
    }
   ],
   "source": [
    "randomForestModel(X_train, X_test, y_train, y_test)"
   ]
  },
  {
   "cell_type": "code",
   "execution_count": 40,
   "metadata": {
    "collapsed": false,
    "deletable": true,
    "editable": true
   },
   "outputs": [
    {
     "name": "stdout",
     "output_type": "stream",
     "text": [
      "Coefficient of determination:  0.986891107317\n",
      "MAE:  2.46392197367\n",
      "Competition Metric:  0.713454918034\n"
     ]
    }
   ],
   "source": [
    "typeAwareRandomForestModel(X_train, X_test, y_train, y_test)"
   ]
  },
  {
   "cell_type": "code",
   "execution_count": null,
   "metadata": {
    "collapsed": true,
    "deletable": true,
    "editable": true
   },
   "outputs": [],
   "source": []
  },
  {
   "cell_type": "code",
   "execution_count": null,
   "metadata": {
    "collapsed": true,
    "deletable": true,
    "editable": true
   },
   "outputs": [],
   "source": []
  }
 ],
 "metadata": {
  "kernelspec": {
   "display_name": "Python 3",
   "language": "python",
   "name": "python3"
  },
  "language_info": {
   "codemirror_mode": {
    "name": "ipython",
    "version": 3
   },
   "file_extension": ".py",
   "mimetype": "text/x-python",
   "name": "python",
   "nbconvert_exporter": "python",
   "pygments_lexer": "ipython3",
   "version": "3.5.3"
  }
 },
 "nbformat": 4,
 "nbformat_minor": 2
}
