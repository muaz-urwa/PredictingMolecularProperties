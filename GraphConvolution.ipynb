{
 "cells": [
  {
   "cell_type": "code",
   "execution_count": 1,
   "metadata": {
    "collapsed": false,
    "deletable": true,
    "editable": true
   },
   "outputs": [],
   "source": [
    "# imports \n",
    "import os\n",
    "import time\n",
    "import datetime\n",
    "import json\n",
    "import gc\n",
    "\n",
    "import numpy as np\n",
    "import pandas as pd\n",
    "\n",
    "import matplotlib.pyplot as plt\n",
    "#import seaborn as sns\n",
    "\n",
    "from sklearn import metrics\n",
    "\n",
    "from itertools import product\n",
    "\n",
    "\n",
    "from sklearn.ensemble import RandomForestRegressor\n",
    "from sklearn.model_selection import train_test_split\n",
    "from sklearn.metrics import r2_score\n",
    "from sklearn.metrics import mean_absolute_error\n",
    "from sklearn.preprocessing import LabelEncoder\n",
    "\n",
    "from sklearn.decomposition import PCA"
   ]
  },
  {
   "cell_type": "code",
   "execution_count": 2,
   "metadata": {
    "collapsed": true,
    "deletable": true,
    "editable": true
   },
   "outputs": [],
   "source": [
    "dataDirectory = 'data'"
   ]
  },
  {
   "cell_type": "code",
   "execution_count": 3,
   "metadata": {
    "collapsed": false,
    "deletable": true,
    "editable": true
   },
   "outputs": [],
   "source": [
    "#train = pd.read_csv(dataDirectory+'/train.csv')\n",
    "structures = pd.read_csv(dataDirectory+'/structures.csv')\n",
    "#train.shape"
   ]
  },
  {
   "cell_type": "code",
   "execution_count": 4,
   "metadata": {
    "collapsed": false,
    "deletable": true,
    "editable": true
   },
   "outputs": [
    {
     "data": {
      "text/html": [
       "<div>\n",
       "<table border=\"1\" class=\"dataframe\">\n",
       "  <thead>\n",
       "    <tr style=\"text-align: right;\">\n",
       "      <th></th>\n",
       "      <th>molecule_name</th>\n",
       "      <th>atom_index</th>\n",
       "      <th>atom</th>\n",
       "      <th>x</th>\n",
       "      <th>y</th>\n",
       "      <th>z</th>\n",
       "    </tr>\n",
       "  </thead>\n",
       "  <tbody>\n",
       "    <tr>\n",
       "      <th>0</th>\n",
       "      <td>dsgdb9nsd_000001</td>\n",
       "      <td>0</td>\n",
       "      <td>C</td>\n",
       "      <td>-0.012698</td>\n",
       "      <td>1.085804</td>\n",
       "      <td>0.008001</td>\n",
       "    </tr>\n",
       "    <tr>\n",
       "      <th>1</th>\n",
       "      <td>dsgdb9nsd_000001</td>\n",
       "      <td>1</td>\n",
       "      <td>H</td>\n",
       "      <td>0.002150</td>\n",
       "      <td>-0.006031</td>\n",
       "      <td>0.001976</td>\n",
       "    </tr>\n",
       "    <tr>\n",
       "      <th>2</th>\n",
       "      <td>dsgdb9nsd_000001</td>\n",
       "      <td>2</td>\n",
       "      <td>H</td>\n",
       "      <td>1.011731</td>\n",
       "      <td>1.463751</td>\n",
       "      <td>0.000277</td>\n",
       "    </tr>\n",
       "  </tbody>\n",
       "</table>\n",
       "</div>"
      ],
      "text/plain": [
       "      molecule_name  atom_index atom         x         y         z\n",
       "0  dsgdb9nsd_000001           0    C -0.012698  1.085804  0.008001\n",
       "1  dsgdb9nsd_000001           1    H  0.002150 -0.006031  0.001976\n",
       "2  dsgdb9nsd_000001           2    H  1.011731  1.463751  0.000277"
      ]
     },
     "execution_count": 4,
     "metadata": {},
     "output_type": "execute_result"
    }
   ],
   "source": [
    "structures.head(3)"
   ]
  },
  {
   "cell_type": "code",
   "execution_count": 5,
   "metadata": {
    "collapsed": false,
    "deletable": true,
    "editable": true
   },
   "outputs": [
    {
     "data": {
      "text/html": [
       "<div>\n",
       "<table border=\"1\" class=\"dataframe\">\n",
       "  <thead>\n",
       "    <tr style=\"text-align: right;\">\n",
       "      <th></th>\n",
       "      <th>molecule_name</th>\n",
       "      <th>atom_index</th>\n",
       "      <th>x</th>\n",
       "      <th>y</th>\n",
       "      <th>z</th>\n",
       "      <th>atom_C</th>\n",
       "      <th>atom_F</th>\n",
       "      <th>atom_H</th>\n",
       "      <th>atom_N</th>\n",
       "      <th>atom_O</th>\n",
       "    </tr>\n",
       "  </thead>\n",
       "  <tbody>\n",
       "    <tr>\n",
       "      <th>0</th>\n",
       "      <td>dsgdb9nsd_000001</td>\n",
       "      <td>0</td>\n",
       "      <td>-0.012698</td>\n",
       "      <td>1.085804</td>\n",
       "      <td>0.008001</td>\n",
       "      <td>1</td>\n",
       "      <td>0</td>\n",
       "      <td>0</td>\n",
       "      <td>0</td>\n",
       "      <td>0</td>\n",
       "    </tr>\n",
       "    <tr>\n",
       "      <th>1</th>\n",
       "      <td>dsgdb9nsd_000001</td>\n",
       "      <td>1</td>\n",
       "      <td>0.002150</td>\n",
       "      <td>-0.006031</td>\n",
       "      <td>0.001976</td>\n",
       "      <td>0</td>\n",
       "      <td>0</td>\n",
       "      <td>1</td>\n",
       "      <td>0</td>\n",
       "      <td>0</td>\n",
       "    </tr>\n",
       "    <tr>\n",
       "      <th>2</th>\n",
       "      <td>dsgdb9nsd_000001</td>\n",
       "      <td>2</td>\n",
       "      <td>1.011731</td>\n",
       "      <td>1.463751</td>\n",
       "      <td>0.000277</td>\n",
       "      <td>0</td>\n",
       "      <td>0</td>\n",
       "      <td>1</td>\n",
       "      <td>0</td>\n",
       "      <td>0</td>\n",
       "    </tr>\n",
       "  </tbody>\n",
       "</table>\n",
       "</div>"
      ],
      "text/plain": [
       "      molecule_name  atom_index         x         y         z  atom_C  atom_F  \\\n",
       "0  dsgdb9nsd_000001           0 -0.012698  1.085804  0.008001       1       0   \n",
       "1  dsgdb9nsd_000001           1  0.002150 -0.006031  0.001976       0       0   \n",
       "2  dsgdb9nsd_000001           2  1.011731  1.463751  0.000277       0       0   \n",
       "\n",
       "   atom_H  atom_N  atom_O  \n",
       "0       0       0       0  \n",
       "1       1       0       0  \n",
       "2       1       0       0  "
      ]
     },
     "execution_count": 5,
     "metadata": {},
     "output_type": "execute_result"
    }
   ],
   "source": [
    "## One hot encode the atom type\n",
    "structures = pd.get_dummies(structures, columns=['atom'])\n",
    "structures.head(3)"
   ]
  },
  {
   "cell_type": "code",
   "execution_count": 6,
   "metadata": {
    "collapsed": false,
    "deletable": true,
    "editable": true
   },
   "outputs": [
    {
     "data": {
      "text/html": [
       "<div>\n",
       "<table border=\"1\" class=\"dataframe\">\n",
       "  <thead>\n",
       "    <tr style=\"text-align: right;\">\n",
       "      <th></th>\n",
       "      <th>molecule_name</th>\n",
       "      <th>atom_index_x</th>\n",
       "      <th>x_x</th>\n",
       "      <th>y_x</th>\n",
       "      <th>z_x</th>\n",
       "      <th>atom_C_x</th>\n",
       "      <th>atom_F_x</th>\n",
       "      <th>atom_H_x</th>\n",
       "      <th>atom_N_x</th>\n",
       "      <th>atom_O_x</th>\n",
       "      <th>atom_index_y</th>\n",
       "      <th>x_y</th>\n",
       "      <th>y_y</th>\n",
       "      <th>z_y</th>\n",
       "      <th>atom_C_y</th>\n",
       "      <th>atom_F_y</th>\n",
       "      <th>atom_H_y</th>\n",
       "      <th>atom_N_y</th>\n",
       "      <th>atom_O_y</th>\n",
       "    </tr>\n",
       "  </thead>\n",
       "  <tbody>\n",
       "    <tr>\n",
       "      <th>0</th>\n",
       "      <td>dsgdb9nsd_000001</td>\n",
       "      <td>0</td>\n",
       "      <td>-0.012698</td>\n",
       "      <td>1.085804</td>\n",
       "      <td>0.008001</td>\n",
       "      <td>1</td>\n",
       "      <td>0</td>\n",
       "      <td>0</td>\n",
       "      <td>0</td>\n",
       "      <td>0</td>\n",
       "      <td>0</td>\n",
       "      <td>-0.012698</td>\n",
       "      <td>1.085804</td>\n",
       "      <td>0.008001</td>\n",
       "      <td>1</td>\n",
       "      <td>0</td>\n",
       "      <td>0</td>\n",
       "      <td>0</td>\n",
       "      <td>0</td>\n",
       "    </tr>\n",
       "    <tr>\n",
       "      <th>1</th>\n",
       "      <td>dsgdb9nsd_000001</td>\n",
       "      <td>0</td>\n",
       "      <td>-0.012698</td>\n",
       "      <td>1.085804</td>\n",
       "      <td>0.008001</td>\n",
       "      <td>1</td>\n",
       "      <td>0</td>\n",
       "      <td>0</td>\n",
       "      <td>0</td>\n",
       "      <td>0</td>\n",
       "      <td>1</td>\n",
       "      <td>0.002150</td>\n",
       "      <td>-0.006031</td>\n",
       "      <td>0.001976</td>\n",
       "      <td>0</td>\n",
       "      <td>0</td>\n",
       "      <td>1</td>\n",
       "      <td>0</td>\n",
       "      <td>0</td>\n",
       "    </tr>\n",
       "    <tr>\n",
       "      <th>2</th>\n",
       "      <td>dsgdb9nsd_000001</td>\n",
       "      <td>0</td>\n",
       "      <td>-0.012698</td>\n",
       "      <td>1.085804</td>\n",
       "      <td>0.008001</td>\n",
       "      <td>1</td>\n",
       "      <td>0</td>\n",
       "      <td>0</td>\n",
       "      <td>0</td>\n",
       "      <td>0</td>\n",
       "      <td>2</td>\n",
       "      <td>1.011731</td>\n",
       "      <td>1.463751</td>\n",
       "      <td>0.000277</td>\n",
       "      <td>0</td>\n",
       "      <td>0</td>\n",
       "      <td>1</td>\n",
       "      <td>0</td>\n",
       "      <td>0</td>\n",
       "    </tr>\n",
       "  </tbody>\n",
       "</table>\n",
       "</div>"
      ],
      "text/plain": [
       "      molecule_name  atom_index_x       x_x       y_x       z_x  atom_C_x  \\\n",
       "0  dsgdb9nsd_000001             0 -0.012698  1.085804  0.008001         1   \n",
       "1  dsgdb9nsd_000001             0 -0.012698  1.085804  0.008001         1   \n",
       "2  dsgdb9nsd_000001             0 -0.012698  1.085804  0.008001         1   \n",
       "\n",
       "   atom_F_x  atom_H_x  atom_N_x  atom_O_x  atom_index_y       x_y       y_y  \\\n",
       "0         0         0         0         0             0 -0.012698  1.085804   \n",
       "1         0         0         0         0             1  0.002150 -0.006031   \n",
       "2         0         0         0         0             2  1.011731  1.463751   \n",
       "\n",
       "        z_y  atom_C_y  atom_F_y  atom_H_y  atom_N_y  atom_O_y  \n",
       "0  0.008001         1         0         0         0         0  \n",
       "1  0.001976         0         0         1         0         0  \n",
       "2  0.000277         0         0         1         0         0  "
      ]
     },
     "execution_count": 6,
     "metadata": {},
     "output_type": "execute_result"
    }
   ],
   "source": [
    "## Merge with itself to create atom pairs\n",
    "structureMerge = pd.merge(structures, structures, how = 'left',left_on  = ['molecule_name'],\n",
    "                  right_on = ['molecule_name'])\n",
    "structureMerge.head(3)"
   ]
  },
  {
   "cell_type": "code",
   "execution_count": 7,
   "metadata": {
    "collapsed": true,
    "deletable": true,
    "editable": true
   },
   "outputs": [],
   "source": [
    "structureMerge['EucDist'] = np.power((structureMerge.x_x-structureMerge.x_y)**2 \n",
    "                             +   (structureMerge.y_x-structureMerge.y_y)**2 \n",
    "                             +   (structureMerge.z_x-structureMerge.z_y)**2, 0.5)"
   ]
  },
  {
   "cell_type": "code",
   "execution_count": 8,
   "metadata": {
    "collapsed": true,
    "deletable": true,
    "editable": true
   },
   "outputs": [],
   "source": [
    "## Scale the atom feature by euclidean distance before local aggregation\n",
    "cols = ['atom_C_y','atom_F_y','atom_H_y','atom_N_y','atom_O_y']\n",
    "for c in cols:\n",
    "    structureMerge[c] = structureMerge[c]/(1+structureMerge.EucDist)"
   ]
  },
  {
   "cell_type": "code",
   "execution_count": 9,
   "metadata": {
    "collapsed": false,
    "deletable": true,
    "editable": true
   },
   "outputs": [],
   "source": [
    "## First order spatial graph convolution\n",
    "firsOrder = structureMerge[['molecule_name','atom_index_x']+cols].groupby(['molecule_name','atom_index_x']).sum().reset_index()"
   ]
  },
  {
   "cell_type": "code",
   "execution_count": 10,
   "metadata": {
    "collapsed": false,
    "deletable": true,
    "editable": true
   },
   "outputs": [
    {
     "data": {
      "text/html": [
       "<div>\n",
       "<table border=\"1\" class=\"dataframe\">\n",
       "  <thead>\n",
       "    <tr style=\"text-align: right;\">\n",
       "      <th></th>\n",
       "      <th>molecule_name</th>\n",
       "      <th>atom_index_x</th>\n",
       "      <th>atom_C_y</th>\n",
       "      <th>atom_F_y</th>\n",
       "      <th>atom_H_y</th>\n",
       "      <th>atom_N_y</th>\n",
       "      <th>atom_O_y</th>\n",
       "    </tr>\n",
       "  </thead>\n",
       "  <tbody>\n",
       "    <tr>\n",
       "      <th>0</th>\n",
       "      <td>dsgdb9nsd_000001</td>\n",
       "      <td>0</td>\n",
       "      <td>1.000000</td>\n",
       "      <td>0.0</td>\n",
       "      <td>1.912092</td>\n",
       "      <td>0.0</td>\n",
       "      <td>0.0</td>\n",
       "    </tr>\n",
       "    <tr>\n",
       "      <th>1</th>\n",
       "      <td>dsgdb9nsd_000001</td>\n",
       "      <td>1</td>\n",
       "      <td>0.478022</td>\n",
       "      <td>0.0</td>\n",
       "      <td>2.077919</td>\n",
       "      <td>0.0</td>\n",
       "      <td>0.0</td>\n",
       "    </tr>\n",
       "    <tr>\n",
       "      <th>2</th>\n",
       "      <td>dsgdb9nsd_000001</td>\n",
       "      <td>2</td>\n",
       "      <td>0.478023</td>\n",
       "      <td>0.0</td>\n",
       "      <td>2.077918</td>\n",
       "      <td>0.0</td>\n",
       "      <td>0.0</td>\n",
       "    </tr>\n",
       "  </tbody>\n",
       "</table>\n",
       "</div>"
      ],
      "text/plain": [
       "      molecule_name  atom_index_x  atom_C_y  atom_F_y  atom_H_y  atom_N_y  \\\n",
       "0  dsgdb9nsd_000001             0  1.000000       0.0  1.912092       0.0   \n",
       "1  dsgdb9nsd_000001             1  0.478022       0.0  2.077919       0.0   \n",
       "2  dsgdb9nsd_000001             2  0.478023       0.0  2.077918       0.0   \n",
       "\n",
       "   atom_O_y  \n",
       "0       0.0  \n",
       "1       0.0  \n",
       "2       0.0  "
      ]
     },
     "execution_count": 10,
     "metadata": {},
     "output_type": "execute_result"
    }
   ],
   "source": [
    "firsOrder.head(3)"
   ]
  },
  {
   "cell_type": "code",
   "execution_count": 12,
   "metadata": {
    "collapsed": true,
    "deletable": true,
    "editable": true
   },
   "outputs": [],
   "source": [
    "firsOrder.columns = ['molecule_name', 'atom_index', 'atom_C_1', 'atom_F_1', 'atom_H_1',\n",
    "       'atom_N_1', 'atom_O_1']"
   ]
  },
  {
   "cell_type": "code",
   "execution_count": 13,
   "metadata": {
    "collapsed": false,
    "deletable": true,
    "editable": true
   },
   "outputs": [
    {
     "data": {
      "text/html": [
       "<div>\n",
       "<table border=\"1\" class=\"dataframe\">\n",
       "  <thead>\n",
       "    <tr style=\"text-align: right;\">\n",
       "      <th></th>\n",
       "      <th>molecule_name</th>\n",
       "      <th>atom_index</th>\n",
       "      <th>x</th>\n",
       "      <th>y</th>\n",
       "      <th>z</th>\n",
       "      <th>atom_C</th>\n",
       "      <th>atom_F</th>\n",
       "      <th>atom_H</th>\n",
       "      <th>atom_N</th>\n",
       "      <th>atom_O</th>\n",
       "      <th>atom_C_1</th>\n",
       "      <th>atom_F_1</th>\n",
       "      <th>atom_H_1</th>\n",
       "      <th>atom_N_1</th>\n",
       "      <th>atom_O_1</th>\n",
       "    </tr>\n",
       "  </thead>\n",
       "  <tbody>\n",
       "    <tr>\n",
       "      <th>0</th>\n",
       "      <td>dsgdb9nsd_000001</td>\n",
       "      <td>0</td>\n",
       "      <td>-0.012698</td>\n",
       "      <td>1.085804</td>\n",
       "      <td>0.008001</td>\n",
       "      <td>1</td>\n",
       "      <td>0</td>\n",
       "      <td>0</td>\n",
       "      <td>0</td>\n",
       "      <td>0</td>\n",
       "      <td>1.000000</td>\n",
       "      <td>0.0</td>\n",
       "      <td>1.912092</td>\n",
       "      <td>0.0</td>\n",
       "      <td>0.0</td>\n",
       "    </tr>\n",
       "    <tr>\n",
       "      <th>1</th>\n",
       "      <td>dsgdb9nsd_000001</td>\n",
       "      <td>1</td>\n",
       "      <td>0.002150</td>\n",
       "      <td>-0.006031</td>\n",
       "      <td>0.001976</td>\n",
       "      <td>0</td>\n",
       "      <td>0</td>\n",
       "      <td>1</td>\n",
       "      <td>0</td>\n",
       "      <td>0</td>\n",
       "      <td>0.478022</td>\n",
       "      <td>0.0</td>\n",
       "      <td>2.077919</td>\n",
       "      <td>0.0</td>\n",
       "      <td>0.0</td>\n",
       "    </tr>\n",
       "    <tr>\n",
       "      <th>2</th>\n",
       "      <td>dsgdb9nsd_000001</td>\n",
       "      <td>2</td>\n",
       "      <td>1.011731</td>\n",
       "      <td>1.463751</td>\n",
       "      <td>0.000277</td>\n",
       "      <td>0</td>\n",
       "      <td>0</td>\n",
       "      <td>1</td>\n",
       "      <td>0</td>\n",
       "      <td>0</td>\n",
       "      <td>0.478023</td>\n",
       "      <td>0.0</td>\n",
       "      <td>2.077918</td>\n",
       "      <td>0.0</td>\n",
       "      <td>0.0</td>\n",
       "    </tr>\n",
       "  </tbody>\n",
       "</table>\n",
       "</div>"
      ],
      "text/plain": [
       "      molecule_name  atom_index         x         y         z  atom_C  atom_F  \\\n",
       "0  dsgdb9nsd_000001           0 -0.012698  1.085804  0.008001       1       0   \n",
       "1  dsgdb9nsd_000001           1  0.002150 -0.006031  0.001976       0       0   \n",
       "2  dsgdb9nsd_000001           2  1.011731  1.463751  0.000277       0       0   \n",
       "\n",
       "   atom_H  atom_N  atom_O  atom_C_1  atom_F_1  atom_H_1  atom_N_1  atom_O_1  \n",
       "0       0       0       0  1.000000       0.0  1.912092       0.0       0.0  \n",
       "1       1       0       0  0.478022       0.0  2.077919       0.0       0.0  \n",
       "2       1       0       0  0.478023       0.0  2.077918       0.0       0.0  "
      ]
     },
     "execution_count": 13,
     "metadata": {},
     "output_type": "execute_result"
    }
   ],
   "source": [
    "## Merge first order features with structures\n",
    "structures = pd.merge(structures, firsOrder, how = 'left',left_on  = ['molecule_name', 'atom_index'],\n",
    "                  right_on = ['molecule_name','atom_index'])\n",
    "structures.head(3)"
   ]
  },
  {
   "cell_type": "code",
   "execution_count": 14,
   "metadata": {
    "collapsed": true,
    "deletable": true,
    "editable": true
   },
   "outputs": [],
   "source": [
    "cols = ['molecule_name', 'atom_index', 'x', 'y', 'z', 'atom_C_1', 'atom_F_1', 'atom_H_1',\n",
    "       'atom_N_1', 'atom_O_1']"
   ]
  },
  {
   "cell_type": "code",
   "execution_count": 15,
   "metadata": {
    "collapsed": false,
    "deletable": true,
    "editable": true
   },
   "outputs": [
    {
     "data": {
      "text/html": [
       "<div>\n",
       "<table border=\"1\" class=\"dataframe\">\n",
       "  <thead>\n",
       "    <tr style=\"text-align: right;\">\n",
       "      <th></th>\n",
       "      <th>molecule_name</th>\n",
       "      <th>atom_index_x</th>\n",
       "      <th>x_x</th>\n",
       "      <th>y_x</th>\n",
       "      <th>z_x</th>\n",
       "      <th>atom_C_1_x</th>\n",
       "      <th>atom_F_1_x</th>\n",
       "      <th>atom_H_1_x</th>\n",
       "      <th>atom_N_1_x</th>\n",
       "      <th>atom_O_1_x</th>\n",
       "      <th>atom_index_y</th>\n",
       "      <th>x_y</th>\n",
       "      <th>y_y</th>\n",
       "      <th>z_y</th>\n",
       "      <th>atom_C_1_y</th>\n",
       "      <th>atom_F_1_y</th>\n",
       "      <th>atom_H_1_y</th>\n",
       "      <th>atom_N_1_y</th>\n",
       "      <th>atom_O_1_y</th>\n",
       "    </tr>\n",
       "  </thead>\n",
       "  <tbody>\n",
       "    <tr>\n",
       "      <th>0</th>\n",
       "      <td>dsgdb9nsd_000001</td>\n",
       "      <td>0</td>\n",
       "      <td>-0.012698</td>\n",
       "      <td>1.085804</td>\n",
       "      <td>0.008001</td>\n",
       "      <td>1.0</td>\n",
       "      <td>0.0</td>\n",
       "      <td>1.912092</td>\n",
       "      <td>0.0</td>\n",
       "      <td>0.0</td>\n",
       "      <td>0</td>\n",
       "      <td>-0.012698</td>\n",
       "      <td>1.085804</td>\n",
       "      <td>0.008001</td>\n",
       "      <td>1.000000</td>\n",
       "      <td>0.0</td>\n",
       "      <td>1.912092</td>\n",
       "      <td>0.0</td>\n",
       "      <td>0.0</td>\n",
       "    </tr>\n",
       "    <tr>\n",
       "      <th>1</th>\n",
       "      <td>dsgdb9nsd_000001</td>\n",
       "      <td>0</td>\n",
       "      <td>-0.012698</td>\n",
       "      <td>1.085804</td>\n",
       "      <td>0.008001</td>\n",
       "      <td>1.0</td>\n",
       "      <td>0.0</td>\n",
       "      <td>1.912092</td>\n",
       "      <td>0.0</td>\n",
       "      <td>0.0</td>\n",
       "      <td>1</td>\n",
       "      <td>0.002150</td>\n",
       "      <td>-0.006031</td>\n",
       "      <td>0.001976</td>\n",
       "      <td>0.478022</td>\n",
       "      <td>0.0</td>\n",
       "      <td>2.077919</td>\n",
       "      <td>0.0</td>\n",
       "      <td>0.0</td>\n",
       "    </tr>\n",
       "    <tr>\n",
       "      <th>2</th>\n",
       "      <td>dsgdb9nsd_000001</td>\n",
       "      <td>0</td>\n",
       "      <td>-0.012698</td>\n",
       "      <td>1.085804</td>\n",
       "      <td>0.008001</td>\n",
       "      <td>1.0</td>\n",
       "      <td>0.0</td>\n",
       "      <td>1.912092</td>\n",
       "      <td>0.0</td>\n",
       "      <td>0.0</td>\n",
       "      <td>2</td>\n",
       "      <td>1.011731</td>\n",
       "      <td>1.463751</td>\n",
       "      <td>0.000277</td>\n",
       "      <td>0.478023</td>\n",
       "      <td>0.0</td>\n",
       "      <td>2.077918</td>\n",
       "      <td>0.0</td>\n",
       "      <td>0.0</td>\n",
       "    </tr>\n",
       "  </tbody>\n",
       "</table>\n",
       "</div>"
      ],
      "text/plain": [
       "      molecule_name  atom_index_x       x_x       y_x       z_x  atom_C_1_x  \\\n",
       "0  dsgdb9nsd_000001             0 -0.012698  1.085804  0.008001         1.0   \n",
       "1  dsgdb9nsd_000001             0 -0.012698  1.085804  0.008001         1.0   \n",
       "2  dsgdb9nsd_000001             0 -0.012698  1.085804  0.008001         1.0   \n",
       "\n",
       "   atom_F_1_x  atom_H_1_x  atom_N_1_x  atom_O_1_x  atom_index_y       x_y  \\\n",
       "0         0.0    1.912092         0.0         0.0             0 -0.012698   \n",
       "1         0.0    1.912092         0.0         0.0             1  0.002150   \n",
       "2         0.0    1.912092         0.0         0.0             2  1.011731   \n",
       "\n",
       "        y_y       z_y  atom_C_1_y  atom_F_1_y  atom_H_1_y  atom_N_1_y  \\\n",
       "0  1.085804  0.008001    1.000000         0.0    1.912092         0.0   \n",
       "1 -0.006031  0.001976    0.478022         0.0    2.077919         0.0   \n",
       "2  1.463751  0.000277    0.478023         0.0    2.077918         0.0   \n",
       "\n",
       "   atom_O_1_y  \n",
       "0         0.0  \n",
       "1         0.0  \n",
       "2         0.0  "
      ]
     },
     "execution_count": 15,
     "metadata": {},
     "output_type": "execute_result"
    }
   ],
   "source": [
    "## merge firs order features with itsef to create atom pairs\n",
    "structureMerge = pd.merge(structures[cols], structures[cols], how = 'left',left_on  = ['molecule_name'],\n",
    "                  right_on = ['molecule_name'])\n",
    "structureMerge.head(3)"
   ]
  },
  {
   "cell_type": "code",
   "execution_count": 16,
   "metadata": {
    "collapsed": true,
    "deletable": true,
    "editable": true
   },
   "outputs": [],
   "source": [
    "structureMerge['EucDist'] = np.power((structureMerge.x_x-structureMerge.x_y)**2 \n",
    "                             +   (structureMerge.y_x-structureMerge.y_y)**2 \n",
    "                             +   (structureMerge.z_x-structureMerge.z_y)**2, 0.5)"
   ]
  },
  {
   "cell_type": "code",
   "execution_count": 17,
   "metadata": {
    "collapsed": true,
    "deletable": true,
    "editable": true
   },
   "outputs": [],
   "source": [
    "# scale by euclidean distance\n",
    "cols = ['atom_C_1_y','atom_F_1_y','atom_H_1_y','atom_N_1_y','atom_O_1_y']\n",
    "for c in cols:\n",
    "    structureMerge[c] = structureMerge[c]/(1+structureMerge.EucDist)"
   ]
  },
  {
   "cell_type": "code",
   "execution_count": 18,
   "metadata": {
    "collapsed": true,
    "deletable": true,
    "editable": true
   },
   "outputs": [],
   "source": [
    "## generate second order GCN atome feature representations\n",
    "secondOrder = structureMerge[['molecule_name','atom_index_x']+cols].groupby(['molecule_name','atom_index_x']).sum().reset_index()"
   ]
  },
  {
   "cell_type": "code",
   "execution_count": 19,
   "metadata": {
    "collapsed": false,
    "deletable": true,
    "editable": true
   },
   "outputs": [
    {
     "data": {
      "text/html": [
       "<div>\n",
       "<table border=\"1\" class=\"dataframe\">\n",
       "  <thead>\n",
       "    <tr style=\"text-align: right;\">\n",
       "      <th></th>\n",
       "      <th>molecule_name</th>\n",
       "      <th>atom_index_x</th>\n",
       "      <th>atom_C_1_y</th>\n",
       "      <th>atom_F_1_y</th>\n",
       "      <th>atom_H_1_y</th>\n",
       "      <th>atom_N_1_y</th>\n",
       "      <th>atom_O_1_y</th>\n",
       "    </tr>\n",
       "  </thead>\n",
       "  <tbody>\n",
       "    <tr>\n",
       "      <th>0</th>\n",
       "      <td>dsgdb9nsd_000001</td>\n",
       "      <td>0</td>\n",
       "      <td>1.914024</td>\n",
       "      <td>0.0</td>\n",
       "      <td>5.885260</td>\n",
       "      <td>0.0</td>\n",
       "      <td>0.0</td>\n",
       "    </tr>\n",
       "    <tr>\n",
       "      <th>1</th>\n",
       "      <td>dsgdb9nsd_000001</td>\n",
       "      <td>1</td>\n",
       "      <td>1.471315</td>\n",
       "      <td>0.0</td>\n",
       "      <td>5.231766</td>\n",
       "      <td>0.0</td>\n",
       "      <td>0.0</td>\n",
       "    </tr>\n",
       "    <tr>\n",
       "      <th>2</th>\n",
       "      <td>dsgdb9nsd_000001</td>\n",
       "      <td>2</td>\n",
       "      <td>1.471315</td>\n",
       "      <td>0.0</td>\n",
       "      <td>5.231766</td>\n",
       "      <td>0.0</td>\n",
       "      <td>0.0</td>\n",
       "    </tr>\n",
       "  </tbody>\n",
       "</table>\n",
       "</div>"
      ],
      "text/plain": [
       "      molecule_name  atom_index_x  atom_C_1_y  atom_F_1_y  atom_H_1_y  \\\n",
       "0  dsgdb9nsd_000001             0    1.914024         0.0    5.885260   \n",
       "1  dsgdb9nsd_000001             1    1.471315         0.0    5.231766   \n",
       "2  dsgdb9nsd_000001             2    1.471315         0.0    5.231766   \n",
       "\n",
       "   atom_N_1_y  atom_O_1_y  \n",
       "0         0.0         0.0  \n",
       "1         0.0         0.0  \n",
       "2         0.0         0.0  "
      ]
     },
     "execution_count": 19,
     "metadata": {},
     "output_type": "execute_result"
    }
   ],
   "source": [
    "secondOrder.head(3)"
   ]
  },
  {
   "cell_type": "code",
   "execution_count": 20,
   "metadata": {
    "collapsed": true,
    "deletable": true,
    "editable": true
   },
   "outputs": [],
   "source": [
    "secondOrder.columns = ['molecule_name', 'atom_index', 'atom_C_2', 'atom_F_2', 'atom_H_2',\n",
    "       'atom_N_2', 'atom_O_2']"
   ]
  },
  {
   "cell_type": "code",
   "execution_count": 21,
   "metadata": {
    "collapsed": false,
    "deletable": true,
    "editable": true
   },
   "outputs": [
    {
     "data": {
      "text/html": [
       "<div>\n",
       "<table border=\"1\" class=\"dataframe\">\n",
       "  <thead>\n",
       "    <tr style=\"text-align: right;\">\n",
       "      <th></th>\n",
       "      <th>molecule_name</th>\n",
       "      <th>atom_index</th>\n",
       "      <th>x</th>\n",
       "      <th>y</th>\n",
       "      <th>z</th>\n",
       "      <th>atom_C</th>\n",
       "      <th>atom_F</th>\n",
       "      <th>atom_H</th>\n",
       "      <th>atom_N</th>\n",
       "      <th>atom_O</th>\n",
       "      <th>atom_C_1</th>\n",
       "      <th>atom_F_1</th>\n",
       "      <th>atom_H_1</th>\n",
       "      <th>atom_N_1</th>\n",
       "      <th>atom_O_1</th>\n",
       "      <th>atom_C_2</th>\n",
       "      <th>atom_F_2</th>\n",
       "      <th>atom_H_2</th>\n",
       "      <th>atom_N_2</th>\n",
       "      <th>atom_O_2</th>\n",
       "    </tr>\n",
       "  </thead>\n",
       "  <tbody>\n",
       "    <tr>\n",
       "      <th>0</th>\n",
       "      <td>dsgdb9nsd_000001</td>\n",
       "      <td>0</td>\n",
       "      <td>-0.012698</td>\n",
       "      <td>1.085804</td>\n",
       "      <td>0.008001</td>\n",
       "      <td>1</td>\n",
       "      <td>0</td>\n",
       "      <td>0</td>\n",
       "      <td>0</td>\n",
       "      <td>0</td>\n",
       "      <td>1.000000</td>\n",
       "      <td>0.0</td>\n",
       "      <td>1.912092</td>\n",
       "      <td>0.0</td>\n",
       "      <td>0.0</td>\n",
       "      <td>1.914024</td>\n",
       "      <td>0.0</td>\n",
       "      <td>5.885260</td>\n",
       "      <td>0.0</td>\n",
       "      <td>0.0</td>\n",
       "    </tr>\n",
       "    <tr>\n",
       "      <th>1</th>\n",
       "      <td>dsgdb9nsd_000001</td>\n",
       "      <td>1</td>\n",
       "      <td>0.002150</td>\n",
       "      <td>-0.006031</td>\n",
       "      <td>0.001976</td>\n",
       "      <td>0</td>\n",
       "      <td>0</td>\n",
       "      <td>1</td>\n",
       "      <td>0</td>\n",
       "      <td>0</td>\n",
       "      <td>0.478022</td>\n",
       "      <td>0.0</td>\n",
       "      <td>2.077919</td>\n",
       "      <td>0.0</td>\n",
       "      <td>0.0</td>\n",
       "      <td>1.471315</td>\n",
       "      <td>0.0</td>\n",
       "      <td>5.231766</td>\n",
       "      <td>0.0</td>\n",
       "      <td>0.0</td>\n",
       "    </tr>\n",
       "    <tr>\n",
       "      <th>2</th>\n",
       "      <td>dsgdb9nsd_000001</td>\n",
       "      <td>2</td>\n",
       "      <td>1.011731</td>\n",
       "      <td>1.463751</td>\n",
       "      <td>0.000277</td>\n",
       "      <td>0</td>\n",
       "      <td>0</td>\n",
       "      <td>1</td>\n",
       "      <td>0</td>\n",
       "      <td>0</td>\n",
       "      <td>0.478023</td>\n",
       "      <td>0.0</td>\n",
       "      <td>2.077918</td>\n",
       "      <td>0.0</td>\n",
       "      <td>0.0</td>\n",
       "      <td>1.471315</td>\n",
       "      <td>0.0</td>\n",
       "      <td>5.231766</td>\n",
       "      <td>0.0</td>\n",
       "      <td>0.0</td>\n",
       "    </tr>\n",
       "  </tbody>\n",
       "</table>\n",
       "</div>"
      ],
      "text/plain": [
       "      molecule_name  atom_index         x         y         z  atom_C  atom_F  \\\n",
       "0  dsgdb9nsd_000001           0 -0.012698  1.085804  0.008001       1       0   \n",
       "1  dsgdb9nsd_000001           1  0.002150 -0.006031  0.001976       0       0   \n",
       "2  dsgdb9nsd_000001           2  1.011731  1.463751  0.000277       0       0   \n",
       "\n",
       "   atom_H  atom_N  atom_O  atom_C_1  atom_F_1  atom_H_1  atom_N_1  atom_O_1  \\\n",
       "0       0       0       0  1.000000       0.0  1.912092       0.0       0.0   \n",
       "1       1       0       0  0.478022       0.0  2.077919       0.0       0.0   \n",
       "2       1       0       0  0.478023       0.0  2.077918       0.0       0.0   \n",
       "\n",
       "   atom_C_2  atom_F_2  atom_H_2  atom_N_2  atom_O_2  \n",
       "0  1.914024       0.0  5.885260       0.0       0.0  \n",
       "1  1.471315       0.0  5.231766       0.0       0.0  \n",
       "2  1.471315       0.0  5.231766       0.0       0.0  "
      ]
     },
     "execution_count": 21,
     "metadata": {},
     "output_type": "execute_result"
    }
   ],
   "source": [
    "structures = pd.merge(structures, secondOrder, how = 'left',left_on  = ['molecule_name', 'atom_index'],\n",
    "                  right_on = ['molecule_name','atom_index'])\n",
    "structures.head(3)"
   ]
  },
  {
   "cell_type": "code",
   "execution_count": 27,
   "metadata": {
    "collapsed": true,
    "deletable": true,
    "editable": true
   },
   "outputs": [],
   "source": [
    "structures.to_csv('structuresGcn.csv',index=False)"
   ]
  },
  {
   "cell_type": "code",
   "execution_count": 22,
   "metadata": {
    "collapsed": false,
    "deletable": true,
    "editable": true
   },
   "outputs": [
    {
     "data": {
      "text/plain": [
       "(465815, 6)"
      ]
     },
     "execution_count": 22,
     "metadata": {},
     "output_type": "execute_result"
    }
   ],
   "source": [
    "# Sampling the 10% dataframe for quick experiments. This will compromise accuracy !\n",
    "train = pd.read_csv(dataDirectory+'/train.csv')\n",
    "train = train.sample(frac=0.1, replace=False, random_state=2019)\n",
    "train.shape"
   ]
  },
  {
   "cell_type": "code",
   "execution_count": 23,
   "metadata": {
    "collapsed": false,
    "deletable": true,
    "editable": true
   },
   "outputs": [
    {
     "data": {
      "text/html": [
       "<div>\n",
       "<table border=\"1\" class=\"dataframe\">\n",
       "  <thead>\n",
       "    <tr style=\"text-align: right;\">\n",
       "      <th></th>\n",
       "      <th>id</th>\n",
       "      <th>molecule_name</th>\n",
       "      <th>atom_index_0</th>\n",
       "      <th>atom_index_1</th>\n",
       "      <th>type</th>\n",
       "      <th>scalar_coupling_constant</th>\n",
       "      <th>x_0</th>\n",
       "      <th>y_0</th>\n",
       "      <th>z_0</th>\n",
       "      <th>atom_C_x</th>\n",
       "      <th>...</th>\n",
       "      <th>atom_C_1_y</th>\n",
       "      <th>atom_F_1_y</th>\n",
       "      <th>atom_H_1_y</th>\n",
       "      <th>atom_N_1_y</th>\n",
       "      <th>atom_O_1_y</th>\n",
       "      <th>atom_C_2_y</th>\n",
       "      <th>atom_F_2_y</th>\n",
       "      <th>atom_H_2_y</th>\n",
       "      <th>atom_N_2_y</th>\n",
       "      <th>atom_O_2_y</th>\n",
       "    </tr>\n",
       "  </thead>\n",
       "  <tbody>\n",
       "    <tr>\n",
       "      <th>0</th>\n",
       "      <td>1164923</td>\n",
       "      <td>dsgdb9nsd_039011</td>\n",
       "      <td>9</td>\n",
       "      <td>8</td>\n",
       "      <td>2JHC</td>\n",
       "      <td>1.27218</td>\n",
       "      <td>-0.583182</td>\n",
       "      <td>1.971750</td>\n",
       "      <td>0.803563</td>\n",
       "      <td>0</td>\n",
       "      <td>...</td>\n",
       "      <td>2.570713</td>\n",
       "      <td>0.0</td>\n",
       "      <td>2.023518</td>\n",
       "      <td>0.912796</td>\n",
       "      <td>0.0</td>\n",
       "      <td>11.671693</td>\n",
       "      <td>0.0</td>\n",
       "      <td>11.284706</td>\n",
       "      <td>5.339873</td>\n",
       "      <td>0.0</td>\n",
       "    </tr>\n",
       "    <tr>\n",
       "      <th>1</th>\n",
       "      <td>4441950</td>\n",
       "      <td>dsgdb9nsd_122989</td>\n",
       "      <td>15</td>\n",
       "      <td>16</td>\n",
       "      <td>3JHH</td>\n",
       "      <td>3.53842</td>\n",
       "      <td>-1.706262</td>\n",
       "      <td>-0.254513</td>\n",
       "      <td>-1.102151</td>\n",
       "      <td>0</td>\n",
       "      <td>...</td>\n",
       "      <td>2.479108</td>\n",
       "      <td>0.0</td>\n",
       "      <td>4.947156</td>\n",
       "      <td>0.000000</td>\n",
       "      <td>0.0</td>\n",
       "      <td>18.883925</td>\n",
       "      <td>0.0</td>\n",
       "      <td>34.042214</td>\n",
       "      <td>0.000000</td>\n",
       "      <td>0.0</td>\n",
       "    </tr>\n",
       "    <tr>\n",
       "      <th>2</th>\n",
       "      <td>4566146</td>\n",
       "      <td>dsgdb9nsd_127768</td>\n",
       "      <td>13</td>\n",
       "      <td>4</td>\n",
       "      <td>3JHC</td>\n",
       "      <td>7.92151</td>\n",
       "      <td>0.120346</td>\n",
       "      <td>-2.510468</td>\n",
       "      <td>3.880919</td>\n",
       "      <td>0</td>\n",
       "      <td>...</td>\n",
       "      <td>2.355623</td>\n",
       "      <td>0.0</td>\n",
       "      <td>1.361693</td>\n",
       "      <td>1.360091</td>\n",
       "      <td>0.0</td>\n",
       "      <td>9.234402</td>\n",
       "      <td>0.0</td>\n",
       "      <td>8.302569</td>\n",
       "      <td>6.913899</td>\n",
       "      <td>0.0</td>\n",
       "    </tr>\n",
       "  </tbody>\n",
       "</table>\n",
       "<p>3 rows × 42 columns</p>\n",
       "</div>"
      ],
      "text/plain": [
       "        id     molecule_name  atom_index_0  atom_index_1  type  \\\n",
       "0  1164923  dsgdb9nsd_039011             9             8  2JHC   \n",
       "1  4441950  dsgdb9nsd_122989            15            16  3JHH   \n",
       "2  4566146  dsgdb9nsd_127768            13             4  3JHC   \n",
       "\n",
       "   scalar_coupling_constant       x_0       y_0       z_0  atom_C_x  \\\n",
       "0                   1.27218 -0.583182  1.971750  0.803563         0   \n",
       "1                   3.53842 -1.706262 -0.254513 -1.102151         0   \n",
       "2                   7.92151  0.120346 -2.510468  3.880919         0   \n",
       "\n",
       "      ...      atom_C_1_y  atom_F_1_y  atom_H_1_y  atom_N_1_y  atom_O_1_y  \\\n",
       "0     ...        2.570713         0.0    2.023518    0.912796         0.0   \n",
       "1     ...        2.479108         0.0    4.947156    0.000000         0.0   \n",
       "2     ...        2.355623         0.0    1.361693    1.360091         0.0   \n",
       "\n",
       "   atom_C_2_y  atom_F_2_y  atom_H_2_y  atom_N_2_y  atom_O_2_y  \n",
       "0   11.671693         0.0   11.284706    5.339873         0.0  \n",
       "1   18.883925         0.0   34.042214    0.000000         0.0  \n",
       "2    9.234402         0.0    8.302569    6.913899         0.0  \n",
       "\n",
       "[3 rows x 42 columns]"
      ]
     },
     "execution_count": 23,
     "metadata": {},
     "output_type": "execute_result"
    }
   ],
   "source": [
    "trainMerged = pd.merge(train, structures, how = 'left',left_on  = ['molecule_name', 'atom_index_0'],\n",
    "                  right_on = ['molecule_name',  'atom_index'])\n",
    "trainMerged.rename(columns={'atom': 'atom_0','x': 'x_0','y': 'y_0','z': 'z_0'}, inplace=True)\n",
    "\n",
    "\n",
    "trainMerged = pd.merge(trainMerged, structures, how = 'left',\n",
    "                  left_on  = ['molecule_name', 'atom_index_1'],\n",
    "                  right_on = ['molecule_name',  'atom_index'])\n",
    "trainMerged.rename(columns={'atom': 'atom_1','x': 'x_1','y': 'y_1','z': 'z_1'}, inplace=True)\n",
    "\n",
    "trainMerged.drop(['atom_index_x','atom_index_y'], axis=1, inplace=True)\n",
    "\n",
    "trainMerged.head(3)"
   ]
  },
  {
   "cell_type": "code",
   "execution_count": 24,
   "metadata": {
    "collapsed": true,
    "deletable": true,
    "editable": true
   },
   "outputs": [],
   "source": [
    "def EuclideanDistance(x,y,z):\n",
    "    \"\"\"calculates euclidean distance given abs relative position\"\"\"\n",
    "    return np.power(x**2 + y**2 + z**2,0.5)\n",
    "    \n",
    "vecDist = np.vectorize(EuclideanDistance)"
   ]
  },
  {
   "cell_type": "code",
   "execution_count": 25,
   "metadata": {
    "collapsed": true,
    "deletable": true,
    "editable": true
   },
   "outputs": [],
   "source": [
    "trainMerged['RelPos_x'] = np.abs(trainMerged['x_0'] - trainMerged['x_1'])\n",
    "trainMerged['RelPos_y'] = np.abs(trainMerged['y_0'] - trainMerged['y_1'])\n",
    "trainMerged['RelPos_z'] = np.abs(trainMerged['z_0'] - trainMerged['z_1'])\n",
    "trainMerged['Euc_Dist'] = vecDist(trainMerged.RelPos_x, trainMerged.RelPos_y ,trainMerged.RelPos_z)"
   ]
  },
  {
   "cell_type": "code",
   "execution_count": 26,
   "metadata": {
    "collapsed": false,
    "deletable": true,
    "editable": true
   },
   "outputs": [
    {
     "data": {
      "text/html": [
       "<div>\n",
       "<table border=\"1\" class=\"dataframe\">\n",
       "  <thead>\n",
       "    <tr style=\"text-align: right;\">\n",
       "      <th></th>\n",
       "      <th>id</th>\n",
       "      <th>molecule_name</th>\n",
       "      <th>atom_index_0</th>\n",
       "      <th>atom_index_1</th>\n",
       "      <th>type</th>\n",
       "      <th>scalar_coupling_constant</th>\n",
       "      <th>x_0</th>\n",
       "      <th>y_0</th>\n",
       "      <th>z_0</th>\n",
       "      <th>atom_C_x</th>\n",
       "      <th>...</th>\n",
       "      <th>atom_O_1_y</th>\n",
       "      <th>atom_C_2_y</th>\n",
       "      <th>atom_F_2_y</th>\n",
       "      <th>atom_H_2_y</th>\n",
       "      <th>atom_N_2_y</th>\n",
       "      <th>atom_O_2_y</th>\n",
       "      <th>RelPos_x</th>\n",
       "      <th>RelPos_y</th>\n",
       "      <th>RelPos_z</th>\n",
       "      <th>Euc_Dist</th>\n",
       "    </tr>\n",
       "  </thead>\n",
       "  <tbody>\n",
       "    <tr>\n",
       "      <th>0</th>\n",
       "      <td>1164923</td>\n",
       "      <td>dsgdb9nsd_039011</td>\n",
       "      <td>9</td>\n",
       "      <td>8</td>\n",
       "      <td>2JHC</td>\n",
       "      <td>1.27218</td>\n",
       "      <td>-0.583182</td>\n",
       "      <td>1.971750</td>\n",
       "      <td>0.803563</td>\n",
       "      <td>0</td>\n",
       "      <td>...</td>\n",
       "      <td>0.0</td>\n",
       "      <td>11.671693</td>\n",
       "      <td>0.0</td>\n",
       "      <td>11.284706</td>\n",
       "      <td>5.339873</td>\n",
       "      <td>0.0</td>\n",
       "      <td>0.566169</td>\n",
       "      <td>1.957179</td>\n",
       "      <td>0.778454</td>\n",
       "      <td>2.181075</td>\n",
       "    </tr>\n",
       "    <tr>\n",
       "      <th>1</th>\n",
       "      <td>4441950</td>\n",
       "      <td>dsgdb9nsd_122989</td>\n",
       "      <td>15</td>\n",
       "      <td>16</td>\n",
       "      <td>3JHH</td>\n",
       "      <td>3.53842</td>\n",
       "      <td>-1.706262</td>\n",
       "      <td>-0.254513</td>\n",
       "      <td>-1.102151</td>\n",
       "      <td>0</td>\n",
       "      <td>...</td>\n",
       "      <td>0.0</td>\n",
       "      <td>18.883925</td>\n",
       "      <td>0.0</td>\n",
       "      <td>34.042214</td>\n",
       "      <td>0.000000</td>\n",
       "      <td>0.0</td>\n",
       "      <td>1.069689</td>\n",
       "      <td>2.221549</td>\n",
       "      <td>0.489319</td>\n",
       "      <td>2.513752</td>\n",
       "    </tr>\n",
       "    <tr>\n",
       "      <th>2</th>\n",
       "      <td>4566146</td>\n",
       "      <td>dsgdb9nsd_127768</td>\n",
       "      <td>13</td>\n",
       "      <td>4</td>\n",
       "      <td>3JHC</td>\n",
       "      <td>7.92151</td>\n",
       "      <td>0.120346</td>\n",
       "      <td>-2.510468</td>\n",
       "      <td>3.880919</td>\n",
       "      <td>0</td>\n",
       "      <td>...</td>\n",
       "      <td>0.0</td>\n",
       "      <td>9.234402</td>\n",
       "      <td>0.0</td>\n",
       "      <td>8.302569</td>\n",
       "      <td>6.913899</td>\n",
       "      <td>0.0</td>\n",
       "      <td>0.103162</td>\n",
       "      <td>0.390069</td>\n",
       "      <td>3.273954</td>\n",
       "      <td>3.298722</td>\n",
       "    </tr>\n",
       "  </tbody>\n",
       "</table>\n",
       "<p>3 rows × 46 columns</p>\n",
       "</div>"
      ],
      "text/plain": [
       "        id     molecule_name  atom_index_0  atom_index_1  type  \\\n",
       "0  1164923  dsgdb9nsd_039011             9             8  2JHC   \n",
       "1  4441950  dsgdb9nsd_122989            15            16  3JHH   \n",
       "2  4566146  dsgdb9nsd_127768            13             4  3JHC   \n",
       "\n",
       "   scalar_coupling_constant       x_0       y_0       z_0  atom_C_x    ...     \\\n",
       "0                   1.27218 -0.583182  1.971750  0.803563         0    ...      \n",
       "1                   3.53842 -1.706262 -0.254513 -1.102151         0    ...      \n",
       "2                   7.92151  0.120346 -2.510468  3.880919         0    ...      \n",
       "\n",
       "   atom_O_1_y  atom_C_2_y  atom_F_2_y  atom_H_2_y  atom_N_2_y  atom_O_2_y  \\\n",
       "0         0.0   11.671693         0.0   11.284706    5.339873         0.0   \n",
       "1         0.0   18.883925         0.0   34.042214    0.000000         0.0   \n",
       "2         0.0    9.234402         0.0    8.302569    6.913899         0.0   \n",
       "\n",
       "   RelPos_x  RelPos_y  RelPos_z  Euc_Dist  \n",
       "0  0.566169  1.957179  0.778454  2.181075  \n",
       "1  1.069689  2.221549  0.489319  2.513752  \n",
       "2  0.103162  0.390069  3.273954  3.298722  \n",
       "\n",
       "[3 rows x 46 columns]"
      ]
     },
     "execution_count": 26,
     "metadata": {},
     "output_type": "execute_result"
    }
   ],
   "source": [
    "trainMerged.head(3)"
   ]
  },
  {
   "cell_type": "code",
   "execution_count": 27,
   "metadata": {
    "collapsed": true,
    "deletable": true,
    "editable": true
   },
   "outputs": [],
   "source": [
    "labelencoder = LabelEncoder()\n",
    "def labelEncodeCategoricalFeatures(DF):\n",
    "    \"\"\"label encodes the categorical feautes in a given dataframe\"\"\"\n",
    "    df = DF.copy()\n",
    "    for c in df.columns:\n",
    "        if df[c].dtype.name == 'object':\n",
    "            df[c] = labelencoder.fit_transform(df[c])\n",
    "    return df"
   ]
  },
  {
   "cell_type": "code",
   "execution_count": 28,
   "metadata": {
    "collapsed": false,
    "deletable": true,
    "editable": true
   },
   "outputs": [
    {
     "data": {
      "text/plain": [
       "41"
      ]
     },
     "execution_count": 28,
     "metadata": {},
     "output_type": "execute_result"
    }
   ],
   "source": [
    "## Predictor columns\n",
    "cols = [c for c in trainMerged.columns if c not in ['id','molecule_name','atom_index_0','atom_index_1','scalar_coupling_constant']]\n",
    "len(cols)"
   ]
  },
  {
   "cell_type": "code",
   "execution_count": 29,
   "metadata": {
    "collapsed": true,
    "deletable": true,
    "editable": true
   },
   "outputs": [],
   "source": [
    "X = trainMerged[cols]\n",
    "Y = trainMerged['scalar_coupling_constant']"
   ]
  },
  {
   "cell_type": "code",
   "execution_count": 30,
   "metadata": {
    "collapsed": false,
    "deletable": true,
    "editable": true
   },
   "outputs": [
    {
     "data": {
      "text/plain": [
       "(465815, 41)"
      ]
     },
     "execution_count": 30,
     "metadata": {},
     "output_type": "execute_result"
    }
   ],
   "source": [
    "X = labelEncodeCategoricalFeatures(X).values\n",
    "X.shape"
   ]
  },
  {
   "cell_type": "code",
   "execution_count": 31,
   "metadata": {
    "collapsed": false,
    "deletable": true,
    "editable": true
   },
   "outputs": [
    {
     "name": "stdout",
     "output_type": "stream",
     "text": [
      "Train Test Split:\n",
      "(312096, 41) (153719, 41) (312096,) (153719,)\n"
     ]
    }
   ],
   "source": [
    "## test train split\n",
    "X_train, X_test, y_train, y_test = train_test_split(X, Y, test_size=0.33, random_state=2019)\n",
    "print(\"Train Test Split:\")\n",
    "print(np.array(X_train).shape, np.array(X_test).shape, np.array(y_train).shape, np.array(y_test).shape)"
   ]
  },
  {
   "cell_type": "code",
   "execution_count": 32,
   "metadata": {
    "collapsed": true,
    "deletable": true,
    "editable": true
   },
   "outputs": [],
   "source": [
    "def competetionMetric(types,y_test, yhat):\n",
    "    \"\"\"Metric given here: https://www.kaggle.com/c/champs-scalar-coupling/overview/evaluation\"\"\"\n",
    "    maeList = []\n",
    "    for t in set(types):\n",
    "        yt = y_test[types==t]\n",
    "        yh = yhat[types==t]\n",
    "        maeList.append(mean_absolute_error(yt, yh))\n",
    "    return np.mean(np.log(maeList))"
   ]
  },
  {
   "cell_type": "code",
   "execution_count": 33,
   "metadata": {
    "collapsed": true,
    "deletable": true,
    "editable": true
   },
   "outputs": [],
   "source": [
    "def evaluateModel(types,y_test, yhat):\n",
    "    \"\"\"Prints several regression evaluation metrics given ground truth and predictions\"\"\"\n",
    "    print('Coefficient of determination: ',r2_score(y_test, yhat))\n",
    "    print('MAE: ',mean_absolute_error(y_test, yhat))\n",
    "    print('Competition Metric: ',competetionMetric(types,y_test, yhat))"
   ]
  },
  {
   "cell_type": "code",
   "execution_count": 34,
   "metadata": {
    "collapsed": true,
    "deletable": true,
    "editable": true
   },
   "outputs": [],
   "source": [
    "def naiveBaseLine(X_train, X_test, y_train, y_test):\n",
    "    \"\"\"Uses mean of training data as prediction\"\"\"\n",
    "    yhat = np.ones(len(y_test)) * np.mean(y_train)\n",
    "    types = X_test[:,0]\n",
    "    evaluateModel(types, y_test, yhat)"
   ]
  },
  {
   "cell_type": "code",
   "execution_count": 35,
   "metadata": {
    "collapsed": true,
    "deletable": true,
    "editable": true
   },
   "outputs": [],
   "source": [
    "def typeAwareBaseLine(X_train, X_test, y_train, y_test):\n",
    "    \"\"\"Uses mean of corresponding type as pediction\"\"\"\n",
    "    yhat = np.zeros(len(y_test))\n",
    "    trainDf = pd.DataFrame({'type':X_train[:,0], 'y':y_train})\n",
    "    meansDf = trainDf.groupby('type').mean()\n",
    "    meanDict = dict(zip(meansDf.index,meansDf.y))\n",
    "    types = X_test[:,0]\n",
    "    yhat = np.array([meanDict[t] for t in types])\n",
    "    evaluateModel(types, y_test, yhat)"
   ]
  },
  {
   "cell_type": "code",
   "execution_count": 36,
   "metadata": {
    "collapsed": true,
    "deletable": true,
    "editable": true
   },
   "outputs": [],
   "source": [
    "def randomForestModel(X_train, X_test, y_train, y_test):\n",
    "    \"\"\"Trains and evaluates a random forrest regressor\"\"\"\n",
    "    regr = RandomForestRegressor(max_depth=10, random_state=2019,n_estimators=100)\n",
    "    regr.fit(X_train,y_train)\n",
    "    yhat = regr.predict(X_test)\n",
    "    types = X_test[:,0]\n",
    "    evaluateModel(types,y_test, yhat)"
   ]
  },
  {
   "cell_type": "code",
   "execution_count": 37,
   "metadata": {
    "collapsed": true,
    "deletable": true,
    "editable": true
   },
   "outputs": [],
   "source": [
    "def typeAwareRandomForestModel(X_train, X_test, y_train, y_test):\n",
    "    \"\"\"Trains a separate random forrest regressor for each class\"\"\"\n",
    "    models = {}\n",
    "    types = X_train[:,0]\n",
    "    for t in set(types):\n",
    "        yt = y_train[types==t]\n",
    "        xt = X_train[types==t]\n",
    "        regr = RandomForestRegressor(max_depth=10, random_state=2019,n_estimators=100)\n",
    "        regr.fit(xt,yt)\n",
    "        models[t] = regr\n",
    "    \n",
    "    types = X_test[:,0]\n",
    "    yhat = np.zeros(X_test.shape[0])\n",
    "    for t in set(types):\n",
    "        yhat[types==t] = models[t].predict(X_test[types==t])\n",
    "\n",
    "    evaluateModel(types,y_test, yhat)"
   ]
  },
  {
   "cell_type": "code",
   "execution_count": 38,
   "metadata": {
    "collapsed": false,
    "deletable": true,
    "editable": true
   },
   "outputs": [
    {
     "name": "stdout",
     "output_type": "stream",
     "text": [
      "Coefficient of determination:  -8.45019949569e-08\n",
      "MAE:  24.7044899378\n",
      "Competition Metric:  3.00509813563\n"
     ]
    }
   ],
   "source": [
    "naiveBaseLine(X_train, X_test, y_train, y_test)"
   ]
  },
  {
   "cell_type": "code",
   "execution_count": 39,
   "metadata": {
    "collapsed": false,
    "deletable": true,
    "editable": true
   },
   "outputs": [
    {
     "name": "stdout",
     "output_type": "stream",
     "text": [
      "Coefficient of determination:  0.949197128083\n",
      "MAE:  4.22328689846\n",
      "Competition Metric:  1.23701125805\n"
     ]
    }
   ],
   "source": [
    "typeAwareBaseLine(X_train, X_test, y_train, y_test)"
   ]
  },
  {
   "cell_type": "code",
   "execution_count": 40,
   "metadata": {
    "collapsed": false,
    "deletable": true,
    "editable": true
   },
   "outputs": [
    {
     "name": "stdout",
     "output_type": "stream",
     "text": [
      "Coefficient of determination:  0.990594668139\n",
      "MAE:  2.17728697914\n",
      "Competition Metric:  0.590545260659\n"
     ]
    }
   ],
   "source": [
    "randomForestModel(X_train, X_test, y_train, y_test)"
   ]
  },
  {
   "cell_type": "code",
   "execution_count": 41,
   "metadata": {
    "collapsed": false,
    "deletable": true,
    "editable": true
   },
   "outputs": [
    {
     "name": "stdout",
     "output_type": "stream",
     "text": [
      "Coefficient of determination:  0.992180651323\n",
      "MAE:  1.93476493197\n",
      "Competition Metric:  0.439941656362\n"
     ]
    }
   ],
   "source": [
    "typeAwareRandomForestModel(X_train, X_test, y_train, y_test)"
   ]
  },
  {
   "cell_type": "code",
   "execution_count": null,
   "metadata": {
    "collapsed": true,
    "deletable": true,
    "editable": true
   },
   "outputs": [],
   "source": []
  },
  {
   "cell_type": "code",
   "execution_count": null,
   "metadata": {
    "collapsed": true,
    "deletable": true,
    "editable": true
   },
   "outputs": [],
   "source": []
  },
  {
   "cell_type": "code",
   "execution_count": null,
   "metadata": {
    "collapsed": true,
    "deletable": true,
    "editable": true
   },
   "outputs": [],
   "source": []
  }
 ],
 "metadata": {
  "kernelspec": {
   "display_name": "Python 3",
   "language": "python",
   "name": "python3"
  },
  "language_info": {
   "codemirror_mode": {
    "name": "ipython",
    "version": 3
   },
   "file_extension": ".py",
   "mimetype": "text/x-python",
   "name": "python",
   "nbconvert_exporter": "python",
   "pygments_lexer": "ipython3",
   "version": "3.5.3"
  }
 },
 "nbformat": 4,
 "nbformat_minor": 2
}
